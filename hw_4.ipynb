{
 "cells": [
  {
   "cell_type": "code",
   "execution_count": 14,
   "id": "c93221d7",
   "metadata": {},
   "outputs": [],
   "source": [
    "import telebot\n",
    "from telebot import types\n",
    "\n",
    "\n",
    "from bs4 import BeautifulSoup\n",
    "import numpy as np\n",
    "from fake_useragent import UserAgent\n",
    "import warnings\n",
    "from itertools import chain\n",
    "import pymorphy2\n",
    "import requests\n",
    "import PyPDF2\n",
    "from io import BytesIO\n",
    "\n",
    "warnings.filterwarnings(\"ignore\")"
   ]
  },
  {
   "cell_type": "code",
   "execution_count": 15,
   "id": "0e91011c",
   "metadata": {},
   "outputs": [],
   "source": [
    "# хотфикс для версии Python >= 3.11\n",
    "def pymorphy2_311_hotfix():\n",
    "    from inspect import getfullargspec\n",
    "    from pymorphy2.units.base import BaseAnalyzerUnit\n",
    "\n",
    "    def _get_param_names_311(klass):\n",
    "        if klass.__init__ is object.__init__:\n",
    "            return []\n",
    "        args = getfullargspec(klass.__init__).args\n",
    "        return sorted(args[1:])\n",
    "\n",
    "    setattr(BaseAnalyzerUnit, '_get_param_names', _get_param_names_311)\n",
    "\n",
    "def get_gent_form(word):\n",
    "    pymorphy2_311_hotfix()\n",
    "    morph = pymorphy2.MorphAnalyzer()\n",
    "    parsed_word = morph.parse(word.lower())[0]\n",
    "    if parsed_word.tag.number == 'sing':\n",
    "        return parsed_word.inflect({'gent'}).word\n",
    "    else:\n",
    "        return parsed_word.inflect({'gent', 'plur'}).word"
   ]
  },
  {
   "cell_type": "code",
   "execution_count": 27,
   "id": "982f8477",
   "metadata": {},
   "outputs": [],
   "source": [
    "# сейчас сбор идет по первой странице start=0, TBD по N первым важным страницам\n",
    "def get_data(word):    \n",
    "    id = 0\n",
    "    query = f'безопасность+{get_gent_form(word[4:].strip())}'\n",
    "    print(query)\n",
    "    page_link = f'https://scholar.google.com/scholar?start={id}&q={query}&hl=ru&as_sdt=0,5'\n",
    "    response = requests.get(page_link, headers={'User-Agent': UserAgent().chrome})\n",
    "    \n",
    "    if not response.ok:\n",
    "        return\n",
    "    html = response.content\n",
    "    soup = BeautifulSoup(html,'html.parser')\n",
    "    \n",
    "    results = []\n",
    "    for item in soup.select('.gs_ri'):\n",
    "        title = item.select_one('.gs_rt a').text if item.select_one('.gs_rt a') else 'Нет заголовка'\n",
    "        link = item.select_one('.gs_rt a')['href'] if item.select_one('.gs_rt a') else 'Нет ссылки'\n",
    "        snippet = item.select_one('.gs_rs').text if item.select_one('.gs_rs') else 'Нет аннотации'\n",
    "        \n",
    "        results.append({\n",
    "            'title': title,\n",
    "            'link': link,\n",
    "            'snippet': snippet\n",
    "        })\n",
    "\n",
    "    obj = soup.findAll(lambda tag: tag.name == 'div')\n",
    "    page_links = [link.find('a')['href'] for link in obj if link.find('a')]\n",
    "    page_links_unique = list(set(page_links))\n",
    "\n",
    "    return results"
   ]
  },
  {
   "cell_type": "code",
   "execution_count": 18,
   "id": "5a0134d3",
   "metadata": {},
   "outputs": [],
   "source": [
    "def check_link(url):\n",
    "    response = requests.get(url, headers={'User-Agent': UserAgent().chrome})\n",
    "    return response.ok\n",
    "\n",
    "def get_data_by_link(url):    \n",
    "    page_link = url\n",
    "    response = requests.get(page_link, headers={'User-Agent': UserAgent().chrome})\n",
    "    \n",
    "    if not response.ok:\n",
    "        return\n",
    "    \n",
    "    if url[-3:] == 'pdf':\n",
    "        cnt_pages = 0\n",
    "        with BytesIO(response.content) as pdf_file:\n",
    "            reader = PyPDF2.PdfReader(pdf_file)\n",
    "            text = ''\n",
    "            for page in reader.pages:\n",
    "                cnt_pages += 1\n",
    "                text += page.extract_text() + '\\n'\n",
    "            print(f\"done {cnt_pages} pages!\")\n",
    "            return text\n",
    "        \n",
    "    html = response.content\n",
    "    soup = BeautifulSoup(html,'html.parser')\n",
    "    paragraphs = soup.find_all('p')\n",
    "    article_text = ' '.join([para.get_text() for para in paragraphs])\n",
    "    \n",
    "    return article_text"
   ]
  },
  {
   "cell_type": "code",
   "execution_count": 20,
   "id": "725620a0",
   "metadata": {},
   "outputs": [],
   "source": [
    "def collect_links(info):\n",
    "    result = []\n",
    "    for item in info:\n",
    "        result.append(item['link'])\n",
    "    return result"
   ]
  },
  {
   "cell_type": "code",
   "execution_count": 21,
   "id": "1ae74f24",
   "metadata": {},
   "outputs": [
    {
     "data": {
      "text/plain": [
       "'8317129367:AAGGO8pYnbQHZCe7Vx8yZb0Wtux9MAvbaqU'"
      ]
     },
     "execution_count": 21,
     "metadata": {},
     "output_type": "execute_result"
    }
   ],
   "source": [
    "with open('key.txt') as f:\n",
    "    TOKEN = f.read().strip()\n",
    "TOKEN "
   ]
  },
  {
   "cell_type": "code",
   "execution_count": 30,
   "id": "968d5ee6",
   "metadata": {},
   "outputs": [
    {
     "name": "stdout",
     "output_type": "stream",
     "text": [
      "безопасность+воды\n"
     ]
    },
    {
     "name": "stderr",
     "output_type": "stream",
     "text": [
      "2025-08-07 15:09:41,386 (__init__.py:1121 MainThread) ERROR - TeleBot: \"Infinity polling: polling exited\"\n",
      "2025-08-07 15:09:41,388 (__init__.py:1123 MainThread) ERROR - TeleBot: \"Break infinity polling\"\n"
     ]
    }
   ],
   "source": [
    "bot = telebot.TeleBot(TOKEN)\n",
    "\n",
    "@bot.message_handler(commands=['start'])\n",
    "def send_welcome(message):\n",
    "    welcome_text = (\n",
    "        \"Добро пожаловать в бот для оценки безопасности химических веществ!\\n\"\n",
    "        \"Вы можете вводить названия химических веществ, и я предоставлю информацию о их безопасности.\\n\"\n",
    "        \"Примеры веществ: вода, ацетон, бензин, спирт, хлор, аммиак.\\n\"\n",
    "        \"Введите название химического вещества для получения информации или подборки статей.\"\n",
    "    )\n",
    "    markup = types.InlineKeyboardMarkup(row_width=2)\n",
    "    button3 = types.InlineKeyboardButton(text=\"Подбор статей о веществе\", callback_data=\"articles\")\n",
    "    button4 = types.InlineKeyboardButton(text=\"Спроси LLM о веществе\", callback_data=\"llm\")\n",
    "    markup.add(button3, button4)\n",
    "    bot.send_message(message.chat.id, welcome_text, reply_markup=markup)\n",
    "\n",
    "@bot.callback_query_handler(func=lambda x: x.data)\n",
    "def start_message(callback):\n",
    "    if callback.data == \"llm\":\n",
    "        llm_message = \"Введи название вещества начав предложение с LLM:\"\n",
    "        bot.send_message(callback.message.chat.id, llm_message)\n",
    "    elif callback.data == \"articles\":\n",
    "        eqt_message = \"Введи название вещества начав предложение с ART:\"\n",
    "        bot.send_message(callback.message.chat.id, eqt_message)\n",
    "\n",
    "@bot.message_handler(func=lambda x: x.text.startswith(\"LLM\"))\n",
    "def llm_request(message):\n",
    "    substance = message.text.lower()\n",
    "    # safety_info = safety_data.get(substance, \"Извините, у меня нет информации об этом веществе.\")\n",
    "    safety_info = \"Безопасно.\"\n",
    "    bot.send_message(message.chat.id, safety_info)\n",
    "\n",
    "@bot.message_handler(func=lambda x: x.text.startswith(\"ART\"))\n",
    "def cr_request(message):\n",
    "    equation = message.text\n",
    "    result = get_data(equation)\n",
    "    links = collect_links(result)\n",
    "    message_text = \"\\n\".join(links)\n",
    "    bot.send_message(message.chat.id, message_text)\n",
    "\n",
    "bot.infinity_polling()"
   ]
  }
 ],
 "metadata": {
  "kernelspec": {
   "display_name": "Python 3",
   "language": "python",
   "name": "python3"
  },
  "language_info": {
   "codemirror_mode": {
    "name": "ipython",
    "version": 3
   },
   "file_extension": ".py",
   "mimetype": "text/x-python",
   "name": "python",
   "nbconvert_exporter": "python",
   "pygments_lexer": "ipython3",
   "version": "3.12.2"
  }
 },
 "nbformat": 4,
 "nbformat_minor": 5
}
